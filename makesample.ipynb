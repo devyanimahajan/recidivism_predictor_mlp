{
 "cells": [
  {
   "cell_type": "code",
   "execution_count": 1,
   "id": "51e94a75-51ee-413b-b99f-fdbea164ddec",
   "metadata": {},
   "outputs": [],
   "source": [
    "import pandas as pd"
   ]
  },
  {
   "cell_type": "code",
   "execution_count": 3,
   "id": "1ca99cb5-1e6f-4c27-a261-1baae0858e04",
   "metadata": {},
   "outputs": [],
   "source": [
    "df = pd.read_csv('/Users/Devyani/msads/ml2/finalproj/merged_compas_data_final.csv')"
   ]
  },
  {
   "cell_type": "code",
   "execution_count": 5,
   "id": "c98bd583-7a3c-4860-bd10-9745f580895e",
   "metadata": {},
   "outputs": [],
   "source": [
    "sample_df = df.sample(n=200, random_state=42)"
   ]
  },
  {
   "cell_type": "code",
   "execution_count": 7,
   "id": "0cfa9faa-57c5-40a1-913f-b9be572cba69",
   "metadata": {},
   "outputs": [],
   "source": [
    "sample_df.to_csv('compas_sample_200.csv', index=False)"
   ]
  },
  {
   "cell_type": "code",
   "execution_count": null,
   "id": "acade4c3-62cb-405f-a956-8823aaf94057",
   "metadata": {},
   "outputs": [],
   "source": []
  }
 ],
 "metadata": {
  "kernelspec": {
   "display_name": "Python 3 (ipykernel)",
   "language": "python",
   "name": "python3"
  },
  "language_info": {
   "codemirror_mode": {
    "name": "ipython",
    "version": 3
   },
   "file_extension": ".py",
   "mimetype": "text/x-python",
   "name": "python",
   "nbconvert_exporter": "python",
   "pygments_lexer": "ipython3",
   "version": "3.12.2"
  }
 },
 "nbformat": 4,
 "nbformat_minor": 5
}
