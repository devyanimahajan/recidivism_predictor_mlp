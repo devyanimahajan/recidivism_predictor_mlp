{
 "cells": [
  {
   "cell_type": "code",
   "execution_count": 3,
   "id": "2c3873c2-6d07-479e-a22e-7be6464c632a",
   "metadata": {},
   "outputs": [],
   "source": [
    "import pandas as pd\n",
    "import torch\n",
    "from torch.utils.data import Dataset, DataLoader\n",
    "from torch import nn\n",
    "from sklearn.model_selection import train_test_split\n",
    "from sklearn.preprocessing import StandardScaler, OneHotEncoder\n",
    "from sklearn.compose import ColumnTransformer"
   ]
  },
  {
   "cell_type": "code",
   "execution_count": 6,
   "id": "98f25277-887c-41cb-8e1e-4c705a0465cb",
   "metadata": {},
   "outputs": [],
   "source": [
    "df = pd.read_csv('/Users/Devyani/msads/ml2/finalproj/mlp_files/compas_sample_200.csv')"
   ]
  },
  {
   "cell_type": "code",
   "execution_count": 8,
   "id": "da6a3e9c-a489-40b9-9d96-a2d69f3408c1",
   "metadata": {},
   "outputs": [],
   "source": [
    "df['prison_in'] = pd.to_datetime(df['prison_in'], errors='coerce')\n",
    "df['prison_out'] = pd.to_datetime(df['prison_out'], errors='coerce')\n",
    "df['prison_in_year'] = df['prison_in'].dt.year\n",
    "df['prison_out_year'] = df['prison_out'].dt.year\n",
    "df = df.drop(columns=['person_id', 'prison_in', 'prison_out'])"
   ]
  },
  {
   "cell_type": "code",
   "execution_count": 10,
   "id": "6f562834-837d-4aa8-a712-6f763a3bb480",
   "metadata": {},
   "outputs": [],
   "source": [
    "y = df['is_recid'].values\n",
    "X = df.drop(columns=['is_recid'])"
   ]
  },
  {
   "cell_type": "code",
   "execution_count": 12,
   "id": "f07e62e0-5ba2-43f9-8d9d-c0b0735b5879",
   "metadata": {},
   "outputs": [],
   "source": [
    "numeric_features = X.select_dtypes(include=['int64', 'float64']).columns.tolist()\n",
    "categorical_features = X.select_dtypes(include=['object']).columns.tolist()"
   ]
  },
  {
   "cell_type": "code",
   "execution_count": 14,
   "id": "0cc7d17c-5981-4b3b-8a85-7addb81acd42",
   "metadata": {},
   "outputs": [],
   "source": [
    "preprocessor = ColumnTransformer([\n",
    "    ('num', StandardScaler(), numeric_features),\n",
    "    ('cat', OneHotEncoder(handle_unknown='ignore', sparse_output=False), categorical_features)\n",
    "])"
   ]
  },
  {
   "cell_type": "code",
   "execution_count": 16,
   "id": "0c54c9b2-236d-4274-a86e-c65bd0f15d7c",
   "metadata": {},
   "outputs": [],
   "source": [
    "X_transformed = preprocessor.fit_transform(X)"
   ]
  },
  {
   "cell_type": "code",
   "execution_count": 18,
   "id": "142318c6-77b7-4bfd-b37b-1c42a0727a7e",
   "metadata": {},
   "outputs": [],
   "source": [
    "X_tensor = torch.tensor(X_transformed, dtype=torch.float32)\n",
    "y_tensor = torch.tensor(y, dtype=torch.float32).view(-1, 1)"
   ]
  },
  {
   "cell_type": "code",
   "execution_count": 20,
   "id": "b74be25f-1e87-4ade-b62a-aaca3ee82331",
   "metadata": {},
   "outputs": [],
   "source": [
    "class CompasDataset(Dataset):\n",
    "    def __init__(self, X, y):\n",
    "        self.X = X\n",
    "        self.y = y\n",
    "    def __len__(self):\n",
    "        return len(self.X)\n",
    "    def __getitem__(self, idx):\n",
    "        return self.X[idx], self.y[idx]"
   ]
  },
  {
   "cell_type": "code",
   "execution_count": 22,
   "id": "b543b369-2f2e-4d91-8dc3-64b3abdd7f8d",
   "metadata": {},
   "outputs": [],
   "source": [
    "dataset = CompasDataset(X_tensor, y_tensor)\n",
    "train_loader = DataLoader(dataset, batch_size=32, shuffle=True)"
   ]
  },
  {
   "cell_type": "code",
   "execution_count": 24,
   "id": "26f62d78-7c48-443f-b379-1caa93cab32f",
   "metadata": {},
   "outputs": [],
   "source": [
    "class MLP(nn.Module):\n",
    "    def __init__(self, input_dim):\n",
    "        super(MLP, self).__init__()\n",
    "        self.model = nn.Sequential(\n",
    "            nn.Linear(input_dim, 64),\n",
    "            nn.ReLU(),\n",
    "            nn.Linear(64, 32),\n",
    "            nn.ReLU(),\n",
    "            nn.Linear(32, 1),\n",
    "            nn.Sigmoid()\n",
    "        )\n",
    "\n",
    "    def forward(self, x):\n",
    "        return self.model(x)"
   ]
  },
  {
   "cell_type": "code",
   "execution_count": 26,
   "id": "4d533152-107e-48bc-983b-4669ce875c49",
   "metadata": {},
   "outputs": [],
   "source": [
    "model = MLP(X_tensor.shape[1])\n",
    "criterion = nn.BCELoss()\n",
    "optimizer = torch.optim.Adam(model.parameters(), lr=0.001)"
   ]
  },
  {
   "cell_type": "code",
   "execution_count": 28,
   "id": "d4abd06b-539a-46a2-98cd-c1496a1638a8",
   "metadata": {},
   "outputs": [
    {
     "name": "stdout",
     "output_type": "stream",
     "text": [
      "Epoch 1, Loss: 0.5848\n",
      "Epoch 2, Loss: 0.5793\n",
      "Epoch 3, Loss: 0.6519\n",
      "Epoch 4, Loss: 0.5632\n",
      "Epoch 5, Loss: 0.6388\n",
      "Epoch 6, Loss: 0.4057\n",
      "Epoch 7, Loss: 0.7179\n",
      "Epoch 8, Loss: 0.4183\n",
      "Epoch 9, Loss: 0.3828\n",
      "Epoch 10, Loss: 0.6757\n"
     ]
    }
   ],
   "source": [
    "for epoch in range(10):\n",
    "    for batch_X, batch_y in train_loader:\n",
    "        pred = model(batch_X)\n",
    "        loss = criterion(pred, batch_y)\n",
    "        optimizer.zero_grad()\n",
    "        loss.backward()\n",
    "        optimizer.step()\n",
    "    print(f\"Epoch {epoch+1}, Loss: {loss.item():.4f}\")"
   ]
  },
  {
   "cell_type": "markdown",
   "id": "f152df16-b93f-4890-a8fc-59b4fcf5eb8d",
   "metadata": {},
   "source": [
    "### evaluation"
   ]
  },
  {
   "cell_type": "code",
   "execution_count": 31,
   "id": "28040745-71e4-44ad-a2fd-d1f71056514a",
   "metadata": {},
   "outputs": [],
   "source": [
    "from sklearn.metrics import accuracy_score, confusion_matrix, classification_report\n",
    "import numpy as np"
   ]
  },
  {
   "cell_type": "code",
   "execution_count": 33,
   "id": "32170df7-6d80-4978-9f2b-15e2016f282d",
   "metadata": {},
   "outputs": [
    {
     "data": {
      "text/plain": [
       "MLP(\n",
       "  (model): Sequential(\n",
       "    (0): Linear(in_features=279, out_features=64, bias=True)\n",
       "    (1): ReLU()\n",
       "    (2): Linear(in_features=64, out_features=32, bias=True)\n",
       "    (3): ReLU()\n",
       "    (4): Linear(in_features=32, out_features=1, bias=True)\n",
       "    (5): Sigmoid()\n",
       "  )\n",
       ")"
      ]
     },
     "execution_count": 33,
     "metadata": {},
     "output_type": "execute_result"
    }
   ],
   "source": [
    "model.eval()\n"
   ]
  },
  {
   "cell_type": "code",
   "execution_count": 35,
   "id": "359a8290-7cb3-49d5-9cb2-627653358029",
   "metadata": {},
   "outputs": [],
   "source": [
    "with torch.no_grad():\n",
    "    y_pred_probs = model(X_tensor).numpy().flatten()\n",
    "    y_preds = (y_pred_probs >= 0.5).astype(int)\n",
    "    y_true = y_tensor.numpy().flatten().astype(int)"
   ]
  },
  {
   "cell_type": "code",
   "execution_count": 37,
   "id": "9e33c09d-ca96-4eff-8c75-61775fa2b29a",
   "metadata": {},
   "outputs": [
    {
     "name": "stdout",
     "output_type": "stream",
     "text": [
      "\n",
      "Accuracy: 0.7600\n"
     ]
    }
   ],
   "source": [
    "accuracy = accuracy_score(y_true, y_preds)\n",
    "print(f\"\\nAccuracy: {accuracy:.4f}\")"
   ]
  },
  {
   "cell_type": "code",
   "execution_count": 39,
   "id": "67af749a-c049-4105-9429-c4ade832bbe7",
   "metadata": {},
   "outputs": [
    {
     "name": "stdout",
     "output_type": "stream",
     "text": [
      "\n",
      "Classification Report:\n",
      "              precision    recall  f1-score   support\n",
      "\n",
      "           0       0.00      0.00      0.00        48\n",
      "           1       0.76      1.00      0.86       152\n",
      "\n",
      "    accuracy                           0.76       200\n",
      "   macro avg       0.38      0.50      0.43       200\n",
      "weighted avg       0.58      0.76      0.66       200\n",
      "\n"
     ]
    },
    {
     "name": "stderr",
     "output_type": "stream",
     "text": [
      "/opt/anaconda3/lib/python3.12/site-packages/sklearn/metrics/_classification.py:1531: UndefinedMetricWarning: Precision is ill-defined and being set to 0.0 in labels with no predicted samples. Use `zero_division` parameter to control this behavior.\n",
      "  _warn_prf(average, modifier, f\"{metric.capitalize()} is\", len(result))\n",
      "/opt/anaconda3/lib/python3.12/site-packages/sklearn/metrics/_classification.py:1531: UndefinedMetricWarning: Precision is ill-defined and being set to 0.0 in labels with no predicted samples. Use `zero_division` parameter to control this behavior.\n",
      "  _warn_prf(average, modifier, f\"{metric.capitalize()} is\", len(result))\n",
      "/opt/anaconda3/lib/python3.12/site-packages/sklearn/metrics/_classification.py:1531: UndefinedMetricWarning: Precision is ill-defined and being set to 0.0 in labels with no predicted samples. Use `zero_division` parameter to control this behavior.\n",
      "  _warn_prf(average, modifier, f\"{metric.capitalize()} is\", len(result))\n"
     ]
    }
   ],
   "source": [
    "print(\"\\nClassification Report:\")\n",
    "print(classification_report(y_true, y_preds))"
   ]
  },
  {
   "cell_type": "code",
   "execution_count": 41,
   "id": "601cf170-9874-4886-b0f8-dc1771a9ee18",
   "metadata": {},
   "outputs": [
    {
     "name": "stdout",
     "output_type": "stream",
     "text": [
      "\n",
      "Confusion Matrix:\n",
      "[[  0  48]\n",
      " [  0 152]]\n"
     ]
    }
   ],
   "source": [
    "cm = confusion_matrix(y_true, y_preds)\n",
    "print(\"\\nConfusion Matrix:\")\n",
    "print(cm)"
   ]
  },
  {
   "cell_type": "code",
   "execution_count": null,
   "id": "c2a9397a-6d46-464a-b8ed-75426fc4c874",
   "metadata": {},
   "outputs": [],
   "source": []
  }
 ],
 "metadata": {
  "kernelspec": {
   "display_name": "Python 3 (ipykernel)",
   "language": "python",
   "name": "python3"
  },
  "language_info": {
   "codemirror_mode": {
    "name": "ipython",
    "version": 3
   },
   "file_extension": ".py",
   "mimetype": "text/x-python",
   "name": "python",
   "nbconvert_exporter": "python",
   "pygments_lexer": "ipython3",
   "version": "3.12.2"
  }
 },
 "nbformat": 4,
 "nbformat_minor": 5
}
