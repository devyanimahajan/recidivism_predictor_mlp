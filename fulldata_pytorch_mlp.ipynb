{
 "cells": [
  {
   "cell_type": "code",
   "execution_count": 2,
   "id": "2c3873c2-6d07-479e-a22e-7be6464c632a",
   "metadata": {},
   "outputs": [],
   "source": [
    "import pandas as pd\n",
    "import torch\n",
    "from torch.utils.data import Dataset, DataLoader\n",
    "from torch import nn\n",
    "from sklearn.model_selection import train_test_split\n",
    "from sklearn.preprocessing import StandardScaler, OneHotEncoder\n",
    "from sklearn.compose import ColumnTransformer"
   ]
  },
  {
   "cell_type": "code",
   "execution_count": 4,
   "id": "98f25277-887c-41cb-8e1e-4c705a0465cb",
   "metadata": {},
   "outputs": [],
   "source": [
    "df = pd.read_csv('/Users/Devyani/msads/ml2/finalproj/merged_compas_data_final.csv')"
   ]
  },
  {
   "cell_type": "code",
   "execution_count": 5,
   "id": "e35c3f51-4869-4838-9c75-2bf940eabfb5",
   "metadata": {},
   "outputs": [
    {
     "data": {
      "text/plain": [
       "(7340907, 20)"
      ]
     },
     "execution_count": 5,
     "metadata": {},
     "output_type": "execute_result"
    }
   ],
   "source": [
    "df.shape"
   ]
  },
  {
   "cell_type": "code",
   "execution_count": 6,
   "id": "a4a52e3f-d8eb-4543-8702-550e43e6064f",
   "metadata": {},
   "outputs": [
    {
     "data": {
      "text/html": [
       "<div>\n",
       "<style scoped>\n",
       "    .dataframe tbody tr th:only-of-type {\n",
       "        vertical-align: middle;\n",
       "    }\n",
       "\n",
       "    .dataframe tbody tr th {\n",
       "        vertical-align: top;\n",
       "    }\n",
       "\n",
       "    .dataframe thead th {\n",
       "        text-align: right;\n",
       "    }\n",
       "</style>\n",
       "<table border=\"1\" class=\"dataframe\">\n",
       "  <thead>\n",
       "    <tr style=\"text-align: right;\">\n",
       "      <th></th>\n",
       "      <th>arrest_charge_degree</th>\n",
       "      <th>person_id</th>\n",
       "      <th>is_recid</th>\n",
       "      <th>juv_fel_count</th>\n",
       "      <th>juv_misd_count</th>\n",
       "      <th>juv_other_count</th>\n",
       "      <th>prison_in</th>\n",
       "      <th>prison_out</th>\n",
       "      <th>prison_duration_days</th>\n",
       "      <th>legal_status</th>\n",
       "      <th>marital_status</th>\n",
       "      <th>race</th>\n",
       "      <th>sex</th>\n",
       "      <th>age</th>\n",
       "      <th>priors_count</th>\n",
       "      <th>c_charge_degree</th>\n",
       "      <th>filing_type</th>\n",
       "      <th>filing_agency</th>\n",
       "      <th>initial_charge</th>\n",
       "      <th>initial_statute</th>\n",
       "    </tr>\n",
       "  </thead>\n",
       "  <tbody>\n",
       "    <tr>\n",
       "      <th>0</th>\n",
       "      <td>(F3)</td>\n",
       "      <td>533</td>\n",
       "      <td>1</td>\n",
       "      <td>0</td>\n",
       "      <td>0</td>\n",
       "      <td>0</td>\n",
       "      <td>2013-04-23 09:37:13.000000</td>\n",
       "      <td>2013-04-24 01:57:01.000000</td>\n",
       "      <td>0.680417</td>\n",
       "      <td>Pretrial</td>\n",
       "      <td>Single</td>\n",
       "      <td>African-American</td>\n",
       "      <td>Female</td>\n",
       "      <td>23</td>\n",
       "      <td>0</td>\n",
       "      <td>(F3)</td>\n",
       "      <td>No Information/ Transfer to Misdemeanor</td>\n",
       "      <td>Fort Lauderdale PD</td>\n",
       "      <td>Driving While License Revoked</td>\n",
       "      <td>322.34(5)</td>\n",
       "    </tr>\n",
       "    <tr>\n",
       "      <th>1</th>\n",
       "      <td>(F3)</td>\n",
       "      <td>533</td>\n",
       "      <td>1</td>\n",
       "      <td>0</td>\n",
       "      <td>0</td>\n",
       "      <td>0</td>\n",
       "      <td>2013-04-23 09:37:13.000000</td>\n",
       "      <td>2013-04-24 01:57:01.000000</td>\n",
       "      <td>0.680417</td>\n",
       "      <td>Pretrial</td>\n",
       "      <td>Single</td>\n",
       "      <td>African-American</td>\n",
       "      <td>Female</td>\n",
       "      <td>23</td>\n",
       "      <td>0</td>\n",
       "      <td>(F3)</td>\n",
       "      <td>Transfer to County Court</td>\n",
       "      <td>Fort Lauderdale PD</td>\n",
       "      <td>Petit Theft</td>\n",
       "      <td>812.014(3)(a)</td>\n",
       "    </tr>\n",
       "    <tr>\n",
       "      <th>2</th>\n",
       "      <td>(F3)</td>\n",
       "      <td>533</td>\n",
       "      <td>1</td>\n",
       "      <td>0</td>\n",
       "      <td>0</td>\n",
       "      <td>0</td>\n",
       "      <td>2013-04-23 09:37:13.000000</td>\n",
       "      <td>2013-04-24 01:57:01.000000</td>\n",
       "      <td>0.680417</td>\n",
       "      <td>Pretrial</td>\n",
       "      <td>Single</td>\n",
       "      <td>African-American</td>\n",
       "      <td>Female</td>\n",
       "      <td>23</td>\n",
       "      <td>0</td>\n",
       "      <td>(F3)</td>\n",
       "      <td>No Information/ Transfer to Misdemeanor</td>\n",
       "      <td>Fort Lauderdale PD</td>\n",
       "      <td>Driving While License Revoked</td>\n",
       "      <td>322.34(5)</td>\n",
       "    </tr>\n",
       "    <tr>\n",
       "      <th>3</th>\n",
       "      <td>(F3)</td>\n",
       "      <td>533</td>\n",
       "      <td>1</td>\n",
       "      <td>0</td>\n",
       "      <td>0</td>\n",
       "      <td>0</td>\n",
       "      <td>2013-04-23 09:37:13.000000</td>\n",
       "      <td>2013-04-24 01:57:01.000000</td>\n",
       "      <td>0.680417</td>\n",
       "      <td>Pretrial</td>\n",
       "      <td>Single</td>\n",
       "      <td>African-American</td>\n",
       "      <td>Female</td>\n",
       "      <td>23</td>\n",
       "      <td>0</td>\n",
       "      <td>(F3)</td>\n",
       "      <td>Transfer to County Court</td>\n",
       "      <td>Fort Lauderdale PD</td>\n",
       "      <td>Petit Theft</td>\n",
       "      <td>812.014(3)(a)</td>\n",
       "    </tr>\n",
       "    <tr>\n",
       "      <th>4</th>\n",
       "      <td>(F3)</td>\n",
       "      <td>533</td>\n",
       "      <td>1</td>\n",
       "      <td>0</td>\n",
       "      <td>0</td>\n",
       "      <td>0</td>\n",
       "      <td>2013-04-23 09:37:13.000000</td>\n",
       "      <td>2013-04-24 01:57:01.000000</td>\n",
       "      <td>0.680417</td>\n",
       "      <td>Pretrial</td>\n",
       "      <td>Single</td>\n",
       "      <td>African-American</td>\n",
       "      <td>Female</td>\n",
       "      <td>23</td>\n",
       "      <td>0</td>\n",
       "      <td>(F3)</td>\n",
       "      <td>No Information/ Transfer to Misdemeanor</td>\n",
       "      <td>Fort Lauderdale PD</td>\n",
       "      <td>Driving While License Revoked</td>\n",
       "      <td>322.34(5)</td>\n",
       "    </tr>\n",
       "  </tbody>\n",
       "</table>\n",
       "</div>"
      ],
      "text/plain": [
       "  arrest_charge_degree  person_id  is_recid  juv_fel_count  juv_misd_count  \\\n",
       "0                 (F3)        533         1              0               0   \n",
       "1                 (F3)        533         1              0               0   \n",
       "2                 (F3)        533         1              0               0   \n",
       "3                 (F3)        533         1              0               0   \n",
       "4                 (F3)        533         1              0               0   \n",
       "\n",
       "   juv_other_count                   prison_in                  prison_out  \\\n",
       "0                0  2013-04-23 09:37:13.000000  2013-04-24 01:57:01.000000   \n",
       "1                0  2013-04-23 09:37:13.000000  2013-04-24 01:57:01.000000   \n",
       "2                0  2013-04-23 09:37:13.000000  2013-04-24 01:57:01.000000   \n",
       "3                0  2013-04-23 09:37:13.000000  2013-04-24 01:57:01.000000   \n",
       "4                0  2013-04-23 09:37:13.000000  2013-04-24 01:57:01.000000   \n",
       "\n",
       "   prison_duration_days legal_status marital_status              race     sex  \\\n",
       "0              0.680417     Pretrial         Single  African-American  Female   \n",
       "1              0.680417     Pretrial         Single  African-American  Female   \n",
       "2              0.680417     Pretrial         Single  African-American  Female   \n",
       "3              0.680417     Pretrial         Single  African-American  Female   \n",
       "4              0.680417     Pretrial         Single  African-American  Female   \n",
       "\n",
       "   age  priors_count c_charge_degree                              filing_type  \\\n",
       "0   23             0            (F3)  No Information/ Transfer to Misdemeanor   \n",
       "1   23             0            (F3)                 Transfer to County Court   \n",
       "2   23             0            (F3)  No Information/ Transfer to Misdemeanor   \n",
       "3   23             0            (F3)                 Transfer to County Court   \n",
       "4   23             0            (F3)  No Information/ Transfer to Misdemeanor   \n",
       "\n",
       "        filing_agency                 initial_charge initial_statute  \n",
       "0  Fort Lauderdale PD  Driving While License Revoked       322.34(5)  \n",
       "1  Fort Lauderdale PD                    Petit Theft   812.014(3)(a)  \n",
       "2  Fort Lauderdale PD  Driving While License Revoked       322.34(5)  \n",
       "3  Fort Lauderdale PD                    Petit Theft   812.014(3)(a)  \n",
       "4  Fort Lauderdale PD  Driving While License Revoked       322.34(5)  "
      ]
     },
     "execution_count": 6,
     "metadata": {},
     "output_type": "execute_result"
    }
   ],
   "source": [
    "df.head()"
   ]
  },
  {
   "cell_type": "code",
   "execution_count": 7,
   "id": "af8d539f-da22-46ed-adf5-df5a8e9b5fdc",
   "metadata": {},
   "outputs": [],
   "source": [
    "df['prison_in'] = pd.to_datetime(df['prison_in'], errors='coerce')\n",
    "df['prison_out'] = pd.to_datetime(df['prison_out'], errors='coerce')\n",
    "df['prison_in_year'] = df['prison_in'].dt.year.astype('Int64')\n",
    "df['prison_out_year'] = df['prison_out'].dt.year.astype('Int64')"
   ]
  },
  {
   "cell_type": "code",
   "execution_count": 8,
   "id": "da6a3e9c-a489-40b9-9d96-a2d69f3408c1",
   "metadata": {},
   "outputs": [],
   "source": [
    "df = df.drop(columns=['person_id', 'prison_in', 'prison_out'])\n",
    "#dropping person_id for overfitting \n",
    "#dropping prison_in and prison_out as mlp cannot handle timestamp data\n",
    "#extracted years as numeric features instead"
   ]
  },
  {
   "cell_type": "code",
   "execution_count": 14,
   "id": "6f562834-837d-4aa8-a712-6f763a3bb480",
   "metadata": {},
   "outputs": [],
   "source": [
    "X = df.drop(columns=['is_recid'])\n",
    "y = df['is_recid'].values"
   ]
  },
  {
   "cell_type": "code",
   "execution_count": 15,
   "id": "f07e62e0-5ba2-43f9-8d9d-c0b0735b5879",
   "metadata": {},
   "outputs": [],
   "source": [
    "numeric_features = X.select_dtypes(include=['int64', 'float64', 'Int64']).columns.tolist()\n",
    "categorical_features = X.select_dtypes(include=['object']).columns.tolist()"
   ]
  },
  {
   "cell_type": "code",
   "execution_count": 17,
   "id": "3303f2c1-d16d-49d8-baf5-fc363d5df7ed",
   "metadata": {},
   "outputs": [
    {
     "name": "stdout",
     "output_type": "stream",
     "text": [
      "Numeric features: ['juv_fel_count', 'juv_misd_count', 'juv_other_count', 'prison_duration_days', 'age', 'priors_count', 'prison_in_year', 'prison_out_year']\n",
      "Categorical features: ['arrest_charge_degree', 'legal_status', 'marital_status', 'race', 'sex', 'c_charge_degree', 'filing_type', 'filing_agency', 'initial_charge', 'initial_statute']\n"
     ]
    }
   ],
   "source": [
    "print(\"Numeric features:\", numeric_features)\n",
    "print(\"Categorical features:\", categorical_features)"
   ]
  },
  {
   "cell_type": "markdown",
   "id": "5dea417b-b421-4989-beb1-497d5769127c",
   "metadata": {},
   "source": [
    "## pause!"
   ]
  },
  {
   "cell_type": "code",
   "execution_count": null,
   "id": "571fec6e-6d4b-4cd4-bdff-8a535a25d222",
   "metadata": {},
   "outputs": [],
   "source": [
    "## yikes"
   ]
  },
  {
   "cell_type": "code",
   "execution_count": 30,
   "id": "f85533b1-dc0a-403f-b5f1-c5c6e88f7a6d",
   "metadata": {},
   "outputs": [],
   "source": [
    "import scipy.sparse\n",
    "import numpy as np"
   ]
  },
  {
   "cell_type": "code",
   "execution_count": 56,
   "id": "0cc7d17c-5981-4b3b-8a85-7addb81acd42",
   "metadata": {},
   "outputs": [],
   "source": [
    "preprocessor = ColumnTransformer([\n",
    "    ('num', StandardScaler(), numeric_features),\n",
    "    ('cat', OneHotEncoder(handle_unknown='ignore', sparse_output=True), categorical_features)\n",
    "])"
   ]
  },
  {
   "cell_type": "markdown",
   "id": "3f6d1315-b30c-4c41-8971-e8926ecff81f",
   "metadata": {},
   "source": [
    "## danger zone :("
   ]
  },
  {
   "cell_type": "code",
   "execution_count": 87,
   "id": "a267072a-ac02-4f3e-b21c-c2f0bafb2c73",
   "metadata": {},
   "outputs": [],
   "source": [
    "X_sparse = preprocessor.fit_transform(X)  \n",
    "assert scipy.sparse.issparse(X_sparse)"
   ]
  },
  {
   "cell_type": "code",
   "execution_count": 88,
   "id": "bdcef0e6-1e96-4054-a99f-3d8e57bf8ea3",
   "metadata": {},
   "outputs": [],
   "source": [
    "class SparseDataset(Dataset):\n",
    "    def __init__(self, X_sparse, y_array):\n",
    "        self.X = X_sparse.tocsr()\n",
    "        self.y = y_array\n",
    "\n",
    "    def __len__(self):\n",
    "        return self.X.shape[0]\n",
    "\n",
    "    def __getitem__(self, idx):\n",
    "        if isinstance(idx, (list, np.ndarray, torch.Tensor)):\n",
    "            x_batch = self.X[idx].toarray()\n",
    "            y_batch = [1.0 if self.y[i] == 1 else 0.0 for i in idx]\n",
    "            x_tensor = torch.tensor(x_batch, dtype=torch.float32)\n",
    "            y_tensor = torch.tensor(y_batch, dtype=torch.float32)\n",
    "            return x_tensor, y_tensor\n",
    "        else:\n",
    "            x = self.X[idx].toarray().squeeze()\n",
    "            x_tensor = torch.tensor(x, dtype=torch.float32)\n",
    "            y_tensor = torch.tensor(1.0 if self.y[idx] == 1 else 0.0, dtype=torch.float32)\n",
    "            return x_tensor, y_tensor"
   ]
  },
  {
   "cell_type": "code",
   "execution_count": 89,
   "id": "c02d4d81-0f4f-4a0b-880a-da68f89e0c83",
   "metadata": {},
   "outputs": [],
   "source": [
    "y_array = y if isinstance(y, np.ndarray) else y.to_numpy()"
   ]
  },
  {
   "cell_type": "code",
   "execution_count": 90,
   "id": "895c2247-bbc8-45a8-bf6d-13bbc6389ac4",
   "metadata": {},
   "outputs": [],
   "source": [
    "full_dataset = SparseDataset(X_sparse, y_array)\n",
    "full_loader = DataLoader(full_dataset, batch_size=1024, shuffle=True)"
   ]
  },
  {
   "cell_type": "markdown",
   "id": "599ea167-04bd-4e2b-84dc-e62abbae1c62",
   "metadata": {},
   "source": [
    "## make model"
   ]
  },
  {
   "cell_type": "code",
   "execution_count": 95,
   "id": "3154d1dd-6522-4546-b574-5a7ac92b106c",
   "metadata": {},
   "outputs": [],
   "source": [
    "import torch.nn as nn"
   ]
  },
  {
   "cell_type": "code",
   "execution_count": 97,
   "id": "526570b3-b1a0-4601-9485-c356d7d8cb76",
   "metadata": {},
   "outputs": [],
   "source": [
    "class MLP(nn.Module):\n",
    "    def __init__(self, input_dim):\n",
    "        super(MLP, self).__init__()\n",
    "        self.model = nn.Sequential(\n",
    "            nn.Linear(input_dim, 64),\n",
    "            nn.ReLU(),\n",
    "            nn.Linear(64, 32),\n",
    "            nn.ReLU(),\n",
    "            nn.Linear(32, 1),\n",
    "            nn.Sigmoid()\n",
    "        )\n",
    "\n",
    "    def forward(self, x):\n",
    "        return self.model(x)"
   ]
  },
  {
   "cell_type": "code",
   "execution_count": 99,
   "id": "4ac4db2e-2241-47d0-930e-bd630fad9f33",
   "metadata": {},
   "outputs": [],
   "source": [
    "input_dim = X_sparse.shape[1]\n",
    "model = MLP(input_dim)"
   ]
  },
  {
   "cell_type": "code",
   "execution_count": 100,
   "id": "95068b73-5122-4a1b-a272-73a6e8d7138c",
   "metadata": {},
   "outputs": [],
   "source": [
    "criterion = nn.BCELoss()\n",
    "optimizer = torch.optim.Adam(model.parameters(), lr=0.001)"
   ]
  },
  {
   "cell_type": "code",
   "execution_count": 101,
   "id": "9a27d941-edc6-4919-857f-110aa7ea7f6d",
   "metadata": {},
   "outputs": [
    {
     "name": "stdout",
     "output_type": "stream",
     "text": [
      "{0.0, 1.0}\n"
     ]
    }
   ],
   "source": [
    "labels = [full_dataset[i][1].item() for i in range(100)]\n",
    "print(set(labels))"
   ]
  },
  {
   "cell_type": "markdown",
   "id": "67e576f2-1e38-4824-a1af-4fe3f67eb90b",
   "metadata": {},
   "source": [
    "## training"
   ]
  },
  {
   "cell_type": "code",
   "execution_count": 105,
   "id": "91282ddc-770a-4727-aba5-02c9d7dc5929",
   "metadata": {},
   "outputs": [],
   "source": [
    "num_epochs = 10 #test with small num"
   ]
  },
  {
   "cell_type": "code",
   "execution_count": 107,
   "id": "d98a0a38-fd16-45ff-91ac-8b0d87a99392",
   "metadata": {},
   "outputs": [
    {
     "name": "stdout",
     "output_type": "stream",
     "text": [
      "Epoch 1 | Avg Loss: 0.2176\n",
      "Epoch 2 | Avg Loss: 0.1313\n",
      "Epoch 3 | Avg Loss: 0.1092\n",
      "Epoch 4 | Avg Loss: 0.0983\n",
      "Epoch 5 | Avg Loss: 0.0914\n",
      "Epoch 6 | Avg Loss: 0.0865\n",
      "Epoch 7 | Avg Loss: 0.0826\n",
      "Epoch 8 | Avg Loss: 0.0799\n",
      "Epoch 9 | Avg Loss: 0.0777\n",
      "Epoch 10 | Avg Loss: 0.0761\n"
     ]
    }
   ],
   "source": [
    "train_losses = []\n",
    "model.train()\n",
    "\n",
    "for epoch in range(num_epochs):\n",
    "    epoch_loss = 0\n",
    "    batch_count = 0\n",
    "\n",
    "    for batch_X, batch_y in full_loader:\n",
    "        preds = model(batch_X)\n",
    "        loss = criterion(preds.view(-1, 1), batch_y.view(-1, 1))\n",
    "\n",
    "        optimizer.zero_grad()\n",
    "        loss.backward()\n",
    "        optimizer.step()\n",
    "\n",
    "        epoch_loss += loss.item()\n",
    "        batch_count += 1\n",
    "\n",
    "    avg_loss = epoch_loss / batch_count\n",
    "    train_losses.append(avg_loss)\n",
    "    print(f\"Epoch {epoch+1} | Avg Loss: {avg_loss:.4f}\")"
   ]
  },
  {
   "cell_type": "code",
   "execution_count": 108,
   "id": "174166d9-66fd-4f65-b3b3-431f1f57a285",
   "metadata": {},
   "outputs": [
    {
     "name": "stdout",
     "output_type": "stream",
     "text": [
      "Full model saved to mlp_full_model.pth\n"
     ]
    }
   ],
   "source": [
    "torch.save(model, \"mlp_full_model.pth\")\n",
    "print(\"Full model saved to mlp_full_model.pth\")"
   ]
  },
  {
   "cell_type": "code",
   "execution_count": 112,
   "id": "95ad8b6f-8338-4ffe-81bd-0c932b63e743",
   "metadata": {},
   "outputs": [
    {
     "data": {
      "image/png": "[encoded data removed]",
      "text/plain": [
       "<Figure size 640x480 with 1 Axes>"
      ]
     },
     "metadata": {},
     "output_type": "display_data"
    }
   ],
   "source": [
    "import matplotlib.pyplot as plt\n",
    "\n",
    "plt.plot(train_losses)\n",
    "plt.xlabel(\"Epoch\")\n",
    "plt.ylabel(\"Loss\")\n",
    "plt.title(\"Training Loss Over Epochs\")\n",
    "plt.grid(True)\n",
    "plt.show()"
   ]
  },
  {
   "cell_type": "markdown",
   "id": "f152df16-b93f-4890-a8fc-59b4fcf5eb8d",
   "metadata": {},
   "source": [
    "### evaluation"
   ]
  },
  {
   "cell_type": "code",
   "execution_count": 114,
   "id": "28040745-71e4-44ad-a2fd-d1f71056514a",
   "metadata": {},
   "outputs": [],
   "source": [
    "from sklearn.metrics import accuracy_score, confusion_matrix, classification_report\n",
    "import numpy as np"
   ]
  },
  {
   "cell_type": "code",
   "execution_count": 124,
   "id": "32170df7-6d80-4978-9f2b-15e2016f282d",
   "metadata": {},
   "outputs": [
    {
     "data": {
      "text/plain": [
       "MLP(\n",
       "  (model): Sequential(\n",
       "    (0): Linear(in_features=3662, out_features=64, bias=True)\n",
       "    (1): ReLU()\n",
       "    (2): Linear(in_features=64, out_features=32, bias=True)\n",
       "    (3): ReLU()\n",
       "    (4): Linear(in_features=32, out_features=1, bias=True)\n",
       "    (5): Sigmoid()\n",
       "  )\n",
       ")"
      ]
     },
     "execution_count": 124,
     "metadata": {},
     "output_type": "execute_result"
    }
   ],
   "source": [
    "model.eval()"
   ]
  },
  {
   "cell_type": "code",
   "execution_count": 126,
   "id": "359a8290-7cb3-49d5-9cb2-627653358029",
   "metadata": {},
   "outputs": [],
   "source": [
    "all_preds = []\n",
    "all_targets = []\n",
    "\n",
    "with torch.no_grad():\n",
    "    for batch_X, batch_y in full_loader:\n",
    "      \n",
    "\n",
    "        batch_preds = model(batch_X)\n",
    "        preds = (batch_preds.view(-1) >= 0.5).int().cpu().numpy()\n",
    "        targets = batch_y.view(-1).int().cpu().numpy()\n",
    "\n",
    "        all_preds.extend(preds)\n",
    "        all_targets.extend(targets)\n",
    "\n",
    "y_preds = np.array(all_preds)\n",
    "y_true = np.array(all_targets)"
   ]
  },
  {
   "cell_type": "code",
   "execution_count": 127,
   "id": "c2a9397a-6d46-464a-b8ed-75426fc4c874",
   "metadata": {},
   "outputs": [
    {
     "name": "stdout",
     "output_type": "stream",
     "text": [
      "\n",
      "Accuracy: 0.9738\n",
      "\n",
      "Classification Report:\n",
      "              precision    recall  f1-score   support\n",
      "\n",
      "           0       0.97      0.93      0.95   1855305\n",
      "           1       0.98      0.99      0.98   5485602\n",
      "\n",
      "    accuracy                           0.97   7340907\n",
      "   macro avg       0.97      0.96      0.96   7340907\n",
      "weighted avg       0.97      0.97      0.97   7340907\n",
      "\n",
      "\n",
      "Confusion Matrix:\n",
      "[[1716525  138780]\n",
      " [  53286 5432316]]\n"
     ]
    }
   ],
   "source": [
    "print(f\"\\nAccuracy: {accuracy_score(y_true, y_preds):.4f}\")\n",
    "print(\"\\nClassification Report:\")\n",
    "print(classification_report(y_true, y_preds))\n",
    "print(\"\\nConfusion Matrix:\")\n",
    "print(confusion_matrix(y_true, y_preds))"
   ]
  },
  {
   "cell_type": "code",
   "execution_count": null,
   "id": "5c1ed52b-2a09-4979-8ba0-db0072b8d1bb",
   "metadata": {},
   "outputs": [],
   "source": []
  }
 ],
 "metadata": {
  "kernelspec": {
   "display_name": "Python 3 (ipykernel)",
   "language": "python",
   "name": "python3"
  },
  "language_info": {
   "codemirror_mode": {
    "name": "ipython",
    "version": 3
   },
   "file_extension": ".py",
   "mimetype": "text/x-python",
   "name": "python",
   "nbconvert_exporter": "python",
   "pygments_lexer": "ipython3",
   "version": "3.12.2"
  }
 },
 "nbformat": 4,
 "nbformat_minor": 5
}
